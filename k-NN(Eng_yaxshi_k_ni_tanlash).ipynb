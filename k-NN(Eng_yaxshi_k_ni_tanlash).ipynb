{
  "nbformat": 4,
  "nbformat_minor": 0,
  "metadata": {
    "colab": {
      "name": "k-NN(Eng yaxshi k ni tanlash).ipynb",
      "provenance": []
    },
    "kernelspec": {
      "name": "python3",
      "display_name": "Python 3"
    },
    "language_info": {
      "name": "python"
    },
    "accelerator": "GPU"
  },
  "cells": [
    {
      "cell_type": "code",
      "execution_count": 1,
      "metadata": {
        "colab": {
          "base_uri": "https://localhost:8080/",
          "height": 380
        },
        "id": "v908ZG25Dpem",
        "outputId": "8388872e-9be5-40ed-a318-9a2de44a9c0a"
      },
      "outputs": [
        {
          "output_type": "execute_result",
          "data": {
            "text/plain": [
              "           id diagnosis  radius_mean  texture_mean  perimeter_mean  area_mean  \\\n",
              "349    899147         B        11.95         14.96           77.23      426.7   \n",
              "345    898677         B        10.26         14.71           66.20      321.6   \n",
              "372   9012795         M        21.37         15.10          141.30     1386.0   \n",
              "533  91930402         M        20.47         20.67          134.70     1299.0   \n",
              "249    884689         B        11.52         14.93           73.87      406.3   \n",
              "399    904357         B        11.80         17.26           75.26      431.9   \n",
              "57     857793         M        14.71         21.59           95.55      656.9   \n",
              "\n",
              "     smoothness_mean  compactness_mean  concavity_mean  concave points_mean  \\\n",
              "349          0.11580           0.12060         0.01171              0.01787   \n",
              "345          0.09882           0.09159         0.03581              0.02037   \n",
              "372          0.10010           0.15150         0.19320              0.12550   \n",
              "533          0.09156           0.13130         0.15230              0.10150   \n",
              "249          0.10130           0.07808         0.04328              0.02929   \n",
              "399          0.09087           0.06232         0.02853              0.01638   \n",
              "57           0.11370           0.13650         0.12930              0.08123   \n",
              "\n",
              "     ...  radius_worst  texture_worst  perimeter_worst  area_worst  \\\n",
              "349  ...         12.81          17.72            83.09       496.2   \n",
              "345  ...         10.88          19.48            70.89       357.1   \n",
              "372  ...         22.69          21.84           152.10      1535.0   \n",
              "533  ...         23.23          27.15           152.00      1645.0   \n",
              "249  ...         12.65          21.19            80.88       491.8   \n",
              "399  ...         13.45          24.49            86.00       562.0   \n",
              "57   ...         17.87          30.70           115.70       985.5   \n",
              "\n",
              "     smoothness_worst  compactness_worst  concavity_worst  \\\n",
              "349            0.1293             0.1885          0.03122   \n",
              "345            0.1360             0.1636          0.07162   \n",
              "372            0.1192             0.2840          0.40240   \n",
              "533            0.1097             0.2534          0.30920   \n",
              "249            0.1389             0.1582          0.18040   \n",
              "399            0.1244             0.1726          0.14490   \n",
              "57             0.1368             0.4290          0.35870   \n",
              "\n",
              "     concave points_worst  symmetry_worst  fractal_dimension_worst  \n",
              "349               0.04766          0.3124                  0.07590  \n",
              "345               0.04074          0.2434                  0.08488  \n",
              "372               0.19660          0.2730                  0.08666  \n",
              "533               0.16130          0.3220                  0.06386  \n",
              "249               0.09608          0.2664                  0.07809  \n",
              "399               0.05356          0.2779                  0.08121  \n",
              "57                0.18340          0.3698                  0.10940  \n",
              "\n",
              "[7 rows x 32 columns]"
            ],
            "text/html": [
              "\n",
              "  <div id=\"df-384f3738-526e-4141-91d8-9e629abd6917\">\n",
              "    <div class=\"colab-df-container\">\n",
              "      <div>\n",
              "<style scoped>\n",
              "    .dataframe tbody tr th:only-of-type {\n",
              "        vertical-align: middle;\n",
              "    }\n",
              "\n",
              "    .dataframe tbody tr th {\n",
              "        vertical-align: top;\n",
              "    }\n",
              "\n",
              "    .dataframe thead th {\n",
              "        text-align: right;\n",
              "    }\n",
              "</style>\n",
              "<table border=\"1\" class=\"dataframe\">\n",
              "  <thead>\n",
              "    <tr style=\"text-align: right;\">\n",
              "      <th></th>\n",
              "      <th>id</th>\n",
              "      <th>diagnosis</th>\n",
              "      <th>radius_mean</th>\n",
              "      <th>texture_mean</th>\n",
              "      <th>perimeter_mean</th>\n",
              "      <th>area_mean</th>\n",
              "      <th>smoothness_mean</th>\n",
              "      <th>compactness_mean</th>\n",
              "      <th>concavity_mean</th>\n",
              "      <th>concave points_mean</th>\n",
              "      <th>...</th>\n",
              "      <th>radius_worst</th>\n",
              "      <th>texture_worst</th>\n",
              "      <th>perimeter_worst</th>\n",
              "      <th>area_worst</th>\n",
              "      <th>smoothness_worst</th>\n",
              "      <th>compactness_worst</th>\n",
              "      <th>concavity_worst</th>\n",
              "      <th>concave points_worst</th>\n",
              "      <th>symmetry_worst</th>\n",
              "      <th>fractal_dimension_worst</th>\n",
              "    </tr>\n",
              "  </thead>\n",
              "  <tbody>\n",
              "    <tr>\n",
              "      <th>349</th>\n",
              "      <td>899147</td>\n",
              "      <td>B</td>\n",
              "      <td>11.95</td>\n",
              "      <td>14.96</td>\n",
              "      <td>77.23</td>\n",
              "      <td>426.7</td>\n",
              "      <td>0.11580</td>\n",
              "      <td>0.12060</td>\n",
              "      <td>0.01171</td>\n",
              "      <td>0.01787</td>\n",
              "      <td>...</td>\n",
              "      <td>12.81</td>\n",
              "      <td>17.72</td>\n",
              "      <td>83.09</td>\n",
              "      <td>496.2</td>\n",
              "      <td>0.1293</td>\n",
              "      <td>0.1885</td>\n",
              "      <td>0.03122</td>\n",
              "      <td>0.04766</td>\n",
              "      <td>0.3124</td>\n",
              "      <td>0.07590</td>\n",
              "    </tr>\n",
              "    <tr>\n",
              "      <th>345</th>\n",
              "      <td>898677</td>\n",
              "      <td>B</td>\n",
              "      <td>10.26</td>\n",
              "      <td>14.71</td>\n",
              "      <td>66.20</td>\n",
              "      <td>321.6</td>\n",
              "      <td>0.09882</td>\n",
              "      <td>0.09159</td>\n",
              "      <td>0.03581</td>\n",
              "      <td>0.02037</td>\n",
              "      <td>...</td>\n",
              "      <td>10.88</td>\n",
              "      <td>19.48</td>\n",
              "      <td>70.89</td>\n",
              "      <td>357.1</td>\n",
              "      <td>0.1360</td>\n",
              "      <td>0.1636</td>\n",
              "      <td>0.07162</td>\n",
              "      <td>0.04074</td>\n",
              "      <td>0.2434</td>\n",
              "      <td>0.08488</td>\n",
              "    </tr>\n",
              "    <tr>\n",
              "      <th>372</th>\n",
              "      <td>9012795</td>\n",
              "      <td>M</td>\n",
              "      <td>21.37</td>\n",
              "      <td>15.10</td>\n",
              "      <td>141.30</td>\n",
              "      <td>1386.0</td>\n",
              "      <td>0.10010</td>\n",
              "      <td>0.15150</td>\n",
              "      <td>0.19320</td>\n",
              "      <td>0.12550</td>\n",
              "      <td>...</td>\n",
              "      <td>22.69</td>\n",
              "      <td>21.84</td>\n",
              "      <td>152.10</td>\n",
              "      <td>1535.0</td>\n",
              "      <td>0.1192</td>\n",
              "      <td>0.2840</td>\n",
              "      <td>0.40240</td>\n",
              "      <td>0.19660</td>\n",
              "      <td>0.2730</td>\n",
              "      <td>0.08666</td>\n",
              "    </tr>\n",
              "    <tr>\n",
              "      <th>533</th>\n",
              "      <td>91930402</td>\n",
              "      <td>M</td>\n",
              "      <td>20.47</td>\n",
              "      <td>20.67</td>\n",
              "      <td>134.70</td>\n",
              "      <td>1299.0</td>\n",
              "      <td>0.09156</td>\n",
              "      <td>0.13130</td>\n",
              "      <td>0.15230</td>\n",
              "      <td>0.10150</td>\n",
              "      <td>...</td>\n",
              "      <td>23.23</td>\n",
              "      <td>27.15</td>\n",
              "      <td>152.00</td>\n",
              "      <td>1645.0</td>\n",
              "      <td>0.1097</td>\n",
              "      <td>0.2534</td>\n",
              "      <td>0.30920</td>\n",
              "      <td>0.16130</td>\n",
              "      <td>0.3220</td>\n",
              "      <td>0.06386</td>\n",
              "    </tr>\n",
              "    <tr>\n",
              "      <th>249</th>\n",
              "      <td>884689</td>\n",
              "      <td>B</td>\n",
              "      <td>11.52</td>\n",
              "      <td>14.93</td>\n",
              "      <td>73.87</td>\n",
              "      <td>406.3</td>\n",
              "      <td>0.10130</td>\n",
              "      <td>0.07808</td>\n",
              "      <td>0.04328</td>\n",
              "      <td>0.02929</td>\n",
              "      <td>...</td>\n",
              "      <td>12.65</td>\n",
              "      <td>21.19</td>\n",
              "      <td>80.88</td>\n",
              "      <td>491.8</td>\n",
              "      <td>0.1389</td>\n",
              "      <td>0.1582</td>\n",
              "      <td>0.18040</td>\n",
              "      <td>0.09608</td>\n",
              "      <td>0.2664</td>\n",
              "      <td>0.07809</td>\n",
              "    </tr>\n",
              "    <tr>\n",
              "      <th>399</th>\n",
              "      <td>904357</td>\n",
              "      <td>B</td>\n",
              "      <td>11.80</td>\n",
              "      <td>17.26</td>\n",
              "      <td>75.26</td>\n",
              "      <td>431.9</td>\n",
              "      <td>0.09087</td>\n",
              "      <td>0.06232</td>\n",
              "      <td>0.02853</td>\n",
              "      <td>0.01638</td>\n",
              "      <td>...</td>\n",
              "      <td>13.45</td>\n",
              "      <td>24.49</td>\n",
              "      <td>86.00</td>\n",
              "      <td>562.0</td>\n",
              "      <td>0.1244</td>\n",
              "      <td>0.1726</td>\n",
              "      <td>0.14490</td>\n",
              "      <td>0.05356</td>\n",
              "      <td>0.2779</td>\n",
              "      <td>0.08121</td>\n",
              "    </tr>\n",
              "    <tr>\n",
              "      <th>57</th>\n",
              "      <td>857793</td>\n",
              "      <td>M</td>\n",
              "      <td>14.71</td>\n",
              "      <td>21.59</td>\n",
              "      <td>95.55</td>\n",
              "      <td>656.9</td>\n",
              "      <td>0.11370</td>\n",
              "      <td>0.13650</td>\n",
              "      <td>0.12930</td>\n",
              "      <td>0.08123</td>\n",
              "      <td>...</td>\n",
              "      <td>17.87</td>\n",
              "      <td>30.70</td>\n",
              "      <td>115.70</td>\n",
              "      <td>985.5</td>\n",
              "      <td>0.1368</td>\n",
              "      <td>0.4290</td>\n",
              "      <td>0.35870</td>\n",
              "      <td>0.18340</td>\n",
              "      <td>0.3698</td>\n",
              "      <td>0.10940</td>\n",
              "    </tr>\n",
              "  </tbody>\n",
              "</table>\n",
              "<p>7 rows × 32 columns</p>\n",
              "</div>\n",
              "      <button class=\"colab-df-convert\" onclick=\"convertToInteractive('df-384f3738-526e-4141-91d8-9e629abd6917')\"\n",
              "              title=\"Convert this dataframe to an interactive table.\"\n",
              "              style=\"display:none;\">\n",
              "        \n",
              "  <svg xmlns=\"http://www.w3.org/2000/svg\" height=\"24px\"viewBox=\"0 0 24 24\"\n",
              "       width=\"24px\">\n",
              "    <path d=\"M0 0h24v24H0V0z\" fill=\"none\"/>\n",
              "    <path d=\"M18.56 5.44l.94 2.06.94-2.06 2.06-.94-2.06-.94-.94-2.06-.94 2.06-2.06.94zm-11 1L8.5 8.5l.94-2.06 2.06-.94-2.06-.94L8.5 2.5l-.94 2.06-2.06.94zm10 10l.94 2.06.94-2.06 2.06-.94-2.06-.94-.94-2.06-.94 2.06-2.06.94z\"/><path d=\"M17.41 7.96l-1.37-1.37c-.4-.4-.92-.59-1.43-.59-.52 0-1.04.2-1.43.59L10.3 9.45l-7.72 7.72c-.78.78-.78 2.05 0 2.83L4 21.41c.39.39.9.59 1.41.59.51 0 1.02-.2 1.41-.59l7.78-7.78 2.81-2.81c.8-.78.8-2.07 0-2.86zM5.41 20L4 18.59l7.72-7.72 1.47 1.35L5.41 20z\"/>\n",
              "  </svg>\n",
              "      </button>\n",
              "      \n",
              "  <style>\n",
              "    .colab-df-container {\n",
              "      display:flex;\n",
              "      flex-wrap:wrap;\n",
              "      gap: 12px;\n",
              "    }\n",
              "\n",
              "    .colab-df-convert {\n",
              "      background-color: #E8F0FE;\n",
              "      border: none;\n",
              "      border-radius: 50%;\n",
              "      cursor: pointer;\n",
              "      display: none;\n",
              "      fill: #1967D2;\n",
              "      height: 32px;\n",
              "      padding: 0 0 0 0;\n",
              "      width: 32px;\n",
              "    }\n",
              "\n",
              "    .colab-df-convert:hover {\n",
              "      background-color: #E2EBFA;\n",
              "      box-shadow: 0px 1px 2px rgba(60, 64, 67, 0.3), 0px 1px 3px 1px rgba(60, 64, 67, 0.15);\n",
              "      fill: #174EA6;\n",
              "    }\n",
              "\n",
              "    [theme=dark] .colab-df-convert {\n",
              "      background-color: #3B4455;\n",
              "      fill: #D2E3FC;\n",
              "    }\n",
              "\n",
              "    [theme=dark] .colab-df-convert:hover {\n",
              "      background-color: #434B5C;\n",
              "      box-shadow: 0px 1px 3px 1px rgba(0, 0, 0, 0.15);\n",
              "      filter: drop-shadow(0px 1px 2px rgba(0, 0, 0, 0.3));\n",
              "      fill: #FFFFFF;\n",
              "    }\n",
              "  </style>\n",
              "\n",
              "      <script>\n",
              "        const buttonEl =\n",
              "          document.querySelector('#df-384f3738-526e-4141-91d8-9e629abd6917 button.colab-df-convert');\n",
              "        buttonEl.style.display =\n",
              "          google.colab.kernel.accessAllowed ? 'block' : 'none';\n",
              "\n",
              "        async function convertToInteractive(key) {\n",
              "          const element = document.querySelector('#df-384f3738-526e-4141-91d8-9e629abd6917');\n",
              "          const dataTable =\n",
              "            await google.colab.kernel.invokeFunction('convertToInteractive',\n",
              "                                                     [key], {});\n",
              "          if (!dataTable) return;\n",
              "\n",
              "          const docLinkHtml = 'Like what you see? Visit the ' +\n",
              "            '<a target=\"_blank\" href=https://colab.research.google.com/notebooks/data_table.ipynb>data table notebook</a>'\n",
              "            + ' to learn more about interactive tables.';\n",
              "          element.innerHTML = '';\n",
              "          dataTable['output_type'] = 'display_data';\n",
              "          await google.colab.output.renderOutput(dataTable, element);\n",
              "          const docLink = document.createElement('div');\n",
              "          docLink.innerHTML = docLinkHtml;\n",
              "          element.appendChild(docLink);\n",
              "        }\n",
              "      </script>\n",
              "    </div>\n",
              "  </div>\n",
              "  "
            ]
          },
          "metadata": {},
          "execution_count": 1
        }
      ],
      "source": [
        "import numpy as np\n",
        "import pandas as pd\n",
        "\n",
        "df = pd.read_csv('https://raw.githubusercontent.com/anvarnarz/praktikum_datasets/main/breast-cancer.csv')\n",
        "df.sample(7)"
      ]
    },
    {
      "cell_type": "code",
      "source": [
        "x = df.drop(['id', 'diagnosis'], axis=1)\n",
        "y = df['diagnosis']"
      ],
      "metadata": {
        "id": "Gyb-FybcEFRK"
      },
      "execution_count": 2,
      "outputs": []
    },
    {
      "cell_type": "code",
      "source": [
        "from sklearn.preprocessing import StandardScaler, LabelEncoder\n",
        "from sklearn.model_selection import train_test_split\n",
        "\n",
        "encoder = LabelEncoder()\n",
        "scaler = StandardScaler()\n",
        "\n",
        "y = encoder.fit_transform(y)\n",
        "x = scaler.fit_transform(x)\n",
        "\n",
        "x_train, x_test, y_train, y_test = train_test_split(x, y, test_size=0.15, random_state=42)"
      ],
      "metadata": {
        "id": "RdY3AfaVErVE"
      },
      "execution_count": 3,
      "outputs": []
    },
    {
      "cell_type": "code",
      "source": [
        "#k-NN\n",
        "\n",
        "from sklearn.neighbors import KNeighborsClassifier\n",
        "\n",
        "knn = KNeighborsClassifier(n_neighbors=5) # k=5\n",
        "\n",
        "knn.fit(x_train, y_train)"
      ],
      "metadata": {
        "colab": {
          "base_uri": "https://localhost:8080/"
        },
        "id": "-dAUOv-lGBdg",
        "outputId": "cee1562a-131d-4756-ce77-1fcd880b3617"
      },
      "execution_count": 4,
      "outputs": [
        {
          "output_type": "execute_result",
          "data": {
            "text/plain": [
              "KNeighborsClassifier()"
            ]
          },
          "metadata": {},
          "execution_count": 4
        }
      ]
    },
    {
      "cell_type": "code",
      "source": [
        "y_predict = knn.predict(x_test)"
      ],
      "metadata": {
        "id": "8WKEMosjGpeb"
      },
      "execution_count": 5,
      "outputs": []
    },
    {
      "cell_type": "code",
      "source": [
        "#Baholash\n",
        "\n",
        "#Confusion matrix\n",
        "\n",
        "from sklearn.metrics import confusion_matrix, f1_score\n",
        "import matplotlib.pyplot as plt\n",
        "import seaborn as sns\n",
        "%matplotlib inline\n",
        "\n",
        "sns.heatmap(confusion_matrix(y_test, y_predict), annot=True) #annot=True ichidagi raqamlarni chiqarish uchun\n",
        "plt.show()"
      ],
      "metadata": {
        "colab": {
          "base_uri": "https://localhost:8080/",
          "height": 265
        },
        "id": "7vDRkF3YGvso",
        "outputId": "5edfcc36-26b5-4253-c1a4-9802e1975026"
      },
      "execution_count": 6,
      "outputs": [
        {
          "output_type": "display_data",
          "data": {
            "text/plain": [
              "<Figure size 432x288 with 2 Axes>"
            ],
            "image/png": "[encoded data removed]"
          },
          "metadata": {
            "needs_background": "light"
          }
        }
      ]
    },
    {
      "cell_type": "markdown",
      "source": [
        "## Eng yaxshi k ni topamiz"
      ],
      "metadata": {
        "id": "YNJrYTqkH_Lr"
      }
    },
    {
      "cell_type": "code",
      "source": [
        "f1 = []\n",
        "for k in range(1, 25):\n",
        "  knn = KNeighborsClassifier(n_neighbors=k)\n",
        "  knn.fit(x_train, y_train)\n",
        "  y_predict = knn.predict(x_test)\n",
        "  f = f1_score(y_test, y_predict)\n",
        "  f1.append(f)\n",
        "\n",
        "plt.figure(figsize=(10, 6))\n",
        "plt.plot(range(1, 25), f1)\n",
        "plt.grid()\n",
        "plt.xticks(range(1, 25))\n",
        "plt.show()"
      ],
      "metadata": {
        "colab": {
          "base_uri": "https://localhost:8080/",
          "height": 374
        },
        "id": "JZ-8B-FAG2kV",
        "outputId": "c20a8825-d611-401a-8b9c-6749b8ab7749"
      },
      "execution_count": 7,
      "outputs": [
        {
          "output_type": "display_data",
          "data": {
            "text/plain": [
              "<Figure size 720x432 with 1 Axes>"
            ],
            "image/png": "[encoded data removed]"
          },
          "metadata": {
            "needs_background": "light"
          }
        }
      ]
    },
    {
      "cell_type": "markdown",
      "source": [
        "**GRID** search yordamida"
      ],
      "metadata": {
        "id": "lMPiN4ZLz1o0"
      }
    },
    {
      "cell_type": "code",
      "source": [
        "from sklearn.model_selection import GridSearchCV\n",
        "param_grid = {'n_neighbors': np.arange(1, 25)}\n",
        "\n",
        "grid_search = GridSearchCV(knn, param_grid, cv=5)\n",
        "\n",
        "grid_search.fit(x, y)"
      ],
      "metadata": {
        "id": "huDSlaVBJfL8",
        "colab": {
          "base_uri": "https://localhost:8080/"
        },
        "outputId": "67fc6905-3a65-46e1-fa84-d035da88a48f"
      },
      "execution_count": 10,
      "outputs": [
        {
          "output_type": "execute_result",
          "data": {
            "text/plain": [
              "GridSearchCV(cv=5, estimator=KNeighborsClassifier(n_neighbors=24),\n",
              "             param_grid={'n_neighbors': array([ 1,  2,  3,  4,  5,  6,  7,  8,  9, 10, 11, 12, 13, 14, 15, 16, 17,\n",
              "       18, 19, 20, 21, 22, 23, 24])})"
            ]
          },
          "metadata": {},
          "execution_count": 10
        }
      ]
    },
    {
      "cell_type": "code",
      "source": [
        "grid_search.cv_results_"
      ],
      "metadata": {
        "colab": {
          "base_uri": "https://localhost:8080/"
        },
        "id": "hop0y3gc1I_O",
        "outputId": "39a3c2be-bd44-47fc-b477-48f277c55442"
      },
      "execution_count": 11,
      "outputs": [
        {
          "output_type": "execute_result",
          "data": {
            "text/plain": [
              "{'mean_fit_time': array([0.00076761, 0.00059166, 0.0005579 , 0.00058608, 0.00059948,\n",
              "        0.00061336, 0.00060301, 0.00064383, 0.00059075, 0.00059571,\n",
              "        0.00491791, 0.00068588, 0.00069437, 0.00064993, 0.00086937,\n",
              "        0.00171866, 0.00060892, 0.0006218 , 0.00070448, 0.0020853 ,\n",
              "        0.00087137, 0.00066657, 0.0016655 , 0.00068092]),\n",
              " 'mean_score_time': array([0.00629797, 0.00532227, 0.00539489, 0.00591831, 0.0057817 ,\n",
              "        0.006006  , 0.0096415 , 0.022856  , 0.01698327, 0.01458755,\n",
              "        0.00740347, 0.00889783, 0.007621  , 0.01424308, 0.01245432,\n",
              "        0.00946465, 0.01705661, 0.01904716, 0.01669779, 0.00902753,\n",
              "        0.00767179, 0.00693169, 0.00901794, 0.01813922]),\n",
              " 'mean_test_score': array([0.95076851, 0.95432386, 0.95777053, 0.96306474, 0.96485018,\n",
              "        0.96835895, 0.96835895, 0.96488123, 0.96839   , 0.96488123,\n",
              "        0.96311132, 0.96311132, 0.96488123, 0.96135693, 0.96135693,\n",
              "        0.95783263, 0.95783263, 0.95432386, 0.95432386, 0.95432386,\n",
              "        0.95256948, 0.95256948, 0.95433939, 0.95433939]),\n",
              " 'param_n_neighbors': masked_array(data=[1, 2, 3, 4, 5, 6, 7, 8, 9, 10, 11, 12, 13, 14, 15, 16,\n",
              "                    17, 18, 19, 20, 21, 22, 23, 24],\n",
              "              mask=[False, False, False, False, False, False, False, False,\n",
              "                    False, False, False, False, False, False, False, False,\n",
              "                    False, False, False, False, False, False, False, False],\n",
              "        fill_value='?',\n",
              "             dtype=object),\n",
              " 'params': [{'n_neighbors': 1},\n",
              "  {'n_neighbors': 2},\n",
              "  {'n_neighbors': 3},\n",
              "  {'n_neighbors': 4},\n",
              "  {'n_neighbors': 5},\n",
              "  {'n_neighbors': 6},\n",
              "  {'n_neighbors': 7},\n",
              "  {'n_neighbors': 8},\n",
              "  {'n_neighbors': 9},\n",
              "  {'n_neighbors': 10},\n",
              "  {'n_neighbors': 11},\n",
              "  {'n_neighbors': 12},\n",
              "  {'n_neighbors': 13},\n",
              "  {'n_neighbors': 14},\n",
              "  {'n_neighbors': 15},\n",
              "  {'n_neighbors': 16},\n",
              "  {'n_neighbors': 17},\n",
              "  {'n_neighbors': 18},\n",
              "  {'n_neighbors': 19},\n",
              "  {'n_neighbors': 20},\n",
              "  {'n_neighbors': 21},\n",
              "  {'n_neighbors': 22},\n",
              "  {'n_neighbors': 23},\n",
              "  {'n_neighbors': 24}],\n",
              " 'rank_test_score': array([24, 21, 15, 10,  7,  3,  2,  4,  1,  4,  8,  8,  4, 11, 11, 13, 14,\n",
              "        18, 18, 18, 22, 22, 16, 16], dtype=int32),\n",
              " 'split0_test_score': array([0.94736842, 0.95614035, 0.97368421, 0.97368421, 0.96491228,\n",
              "        0.98245614, 0.97368421, 0.95614035, 0.96491228, 0.96491228,\n",
              "        0.96491228, 0.96491228, 0.96491228, 0.96491228, 0.96491228,\n",
              "        0.95614035, 0.95614035, 0.93859649, 0.93859649, 0.93859649,\n",
              "        0.92982456, 0.93859649, 0.93859649, 0.93859649]),\n",
              " 'split1_test_score': array([0.96491228, 0.96491228, 0.95614035, 0.96491228, 0.95614035,\n",
              "        0.96491228, 0.95614035, 0.94736842, 0.94736842, 0.93859649,\n",
              "        0.92982456, 0.93859649, 0.93859649, 0.93859649, 0.93859649,\n",
              "        0.93859649, 0.92982456, 0.93859649, 0.93859649, 0.93859649,\n",
              "        0.93859649, 0.92982456, 0.92982456, 0.92982456]),\n",
              " 'split2_test_score': array([0.97368421, 0.95614035, 0.98245614, 0.98245614, 0.98245614,\n",
              "        0.98245614, 0.98245614, 0.98245614, 0.99122807, 0.98245614,\n",
              "        0.99122807, 0.98245614, 0.98245614, 0.97368421, 0.97368421,\n",
              "        0.97368421, 0.97368421, 0.97368421, 0.97368421, 0.97368421,\n",
              "        0.97368421, 0.97368421, 0.97368421, 0.97368421]),\n",
              " 'split3_test_score': array([0.92982456, 0.92982456, 0.94736842, 0.94736842, 0.95614035,\n",
              "        0.94736842, 0.96491228, 0.95614035, 0.95614035, 0.95614035,\n",
              "        0.95614035, 0.95614035, 0.95614035, 0.95614035, 0.95614035,\n",
              "        0.95614035, 0.96491228, 0.95614035, 0.95614035, 0.95614035,\n",
              "        0.95614035, 0.95614035, 0.95614035, 0.95614035]),\n",
              " 'split4_test_score': array([0.9380531 , 0.96460177, 0.92920354, 0.94690265, 0.96460177,\n",
              "        0.96460177, 0.96460177, 0.98230088, 0.98230088, 0.98230088,\n",
              "        0.97345133, 0.97345133, 0.98230088, 0.97345133, 0.97345133,\n",
              "        0.96460177, 0.96460177, 0.96460177, 0.96460177, 0.96460177,\n",
              "        0.96460177, 0.96460177, 0.97345133, 0.97345133]),\n",
              " 'std_fit_time': array([2.94651898e-04, 3.37385793e-05, 1.07092148e-05, 2.73491780e-05,\n",
              "        4.57270675e-05, 5.31145227e-05, 4.38895903e-05, 5.29037020e-05,\n",
              "        1.55600959e-05, 3.22465337e-05, 3.60643201e-03, 6.71967274e-05,\n",
              "        5.70301228e-05, 6.13571036e-05, 3.56988991e-04, 2.10669652e-03,\n",
              "        6.93025027e-05, 4.25206686e-05, 5.43432044e-05, 2.84442263e-03,\n",
              "        3.21150106e-04, 3.99518405e-05, 2.02713970e-03, 4.87261318e-05]),\n",
              " 'std_score_time': array([1.50833009e-03, 9.16567847e-05, 1.25381282e-04, 2.34614126e-04,\n",
              "        1.37668132e-04, 1.87978074e-04, 5.46058253e-03, 4.51183336e-03,\n",
              "        6.32809052e-03, 3.22575522e-03, 3.11418666e-03, 1.75989476e-03,\n",
              "        8.41202369e-04, 4.44133792e-03, 9.92007678e-03, 2.57467749e-03,\n",
              "        6.14664960e-03, 7.32148241e-03, 5.77468543e-03, 2.60294079e-03,\n",
              "        7.28026900e-04, 3.86870261e-04, 3.04086231e-03, 1.20796407e-02]),\n",
              " 'std_test_score': array([0.01635278, 0.01284185, 0.01891856, 0.01414072, 0.00960997,\n",
              "        0.0131458 , 0.00897083, 0.01464122, 0.01624282, 0.01661092,\n",
              "        0.02028454, 0.01505957, 0.01661092, 0.01308531, 0.01308531,\n",
              "        0.01160044, 0.01506341, 0.01398898, 0.01398898, 0.01398898,\n",
              "        0.01622304, 0.01622304, 0.01784123, 0.01784123])}"
            ]
          },
          "metadata": {},
          "execution_count": 11
        }
      ]
    },
    {
      "cell_type": "code",
      "source": [
        "grid_search.cv_results_['rank_test_score']"
      ],
      "metadata": {
        "colab": {
          "base_uri": "https://localhost:8080/"
        },
        "id": "vjot3NXu1n8g",
        "outputId": "b31e84c3-1f76-489c-9bde-98f891d5ce71"
      },
      "execution_count": 13,
      "outputs": [
        {
          "output_type": "execute_result",
          "data": {
            "text/plain": [
              "array([24, 21, 15, 10,  7,  3,  2,  4,  1,  4,  8,  8,  4, 11, 11, 13, 14,\n",
              "       18, 18, 18, 22, 22, 16, 16], dtype=int32)"
            ]
          },
          "metadata": {},
          "execution_count": 13
        }
      ]
    },
    {
      "cell_type": "code",
      "source": [
        "grid_search.best_params_"
      ],
      "metadata": {
        "colab": {
          "base_uri": "https://localhost:8080/"
        },
        "id": "BDh51X961veK",
        "outputId": "74ed0124-d562-48a8-a98d-fcc2e650b986"
      },
      "execution_count": 14,
      "outputs": [
        {
          "output_type": "execute_result",
          "data": {
            "text/plain": [
              "{'n_neighbors': 9}"
            ]
          },
          "metadata": {},
          "execution_count": 14
        }
      ]
    },
    {
      "cell_type": "markdown",
      "source": [
        "Natija oldingi natija bilan bir xil chiqdi"
      ],
      "metadata": {
        "id": "Jy-3-Yel1-tT"
      }
    },
    {
      "cell_type": "code",
      "source": [
        "grid_search.best_score_"
      ],
      "metadata": {
        "colab": {
          "base_uri": "https://localhost:8080/"
        },
        "id": "tdSKokbr16ks",
        "outputId": "316b816b-1a0d-45c6-fc1b-7c708666a614"
      },
      "execution_count": 15,
      "outputs": [
        {
          "output_type": "execute_result",
          "data": {
            "text/plain": [
              "0.968390001552554"
            ]
          },
          "metadata": {},
          "execution_count": 15
        }
      ]
    },
    {
      "cell_type": "markdown",
      "source": [
        "**Xatolikni grafikda ifodalanishi**"
      ],
      "metadata": {
        "id": "CzEle0HA3mDr"
      }
    },
    {
      "cell_type": "code",
      "source": [
        "plt.figure(figsize=(8, 6))\n",
        "plt.plot(param_grid['n_neighbors'], grid_search.cv_results_['rank_test_score'])\n",
        "plt.ylabel('Xatolik')\n",
        "plt.xlabel('k')\n",
        "plt.xticks(param_grid['n_neighbors'])\n",
        "plt.grid()\n",
        "plt.show()"
      ],
      "metadata": {
        "colab": {
          "base_uri": "https://localhost:8080/",
          "height": 390
        },
        "id": "yrhhchmf2ZqL",
        "outputId": "f6d2e242-6a0c-4105-a2d0-95d361c20c7e"
      },
      "execution_count": 20,
      "outputs": [
        {
          "output_type": "display_data",
          "data": {
            "text/plain": [
              "<Figure size 576x432 with 1 Axes>"
            ],
            "image/png": "[encoded data removed]"
          },
          "metadata": {
            "needs_background": "light"
          }
        }
      ]
    },
    {
      "cell_type": "markdown",
      "source": [
        "Eng kichik xatolik **k=9** da ekan"
      ],
      "metadata": {
        "id": "N4LmyHRC3_TF"
      }
    },
    {
      "cell_type": "code",
      "source": [
        ""
      ],
      "metadata": {
        "id": "QXxlpyNw3XY3"
      },
      "execution_count": null,
      "outputs": []
    }
  ]
}